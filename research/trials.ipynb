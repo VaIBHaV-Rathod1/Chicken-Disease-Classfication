{
 "cells": [
  {
   "cell_type": "code",
   "execution_count": 4,
   "id": "06a3e56b",
   "metadata": {},
   "outputs": [],
   "source": [
    "d = {\"key\":\"value\", \"key1\":\"value1\"}"
   ]
  },
  {
   "cell_type": "code",
   "execution_count": 5,
   "id": "9ac86296",
   "metadata": {},
   "outputs": [
    {
     "data": {
      "text/plain": [
       "'value'"
      ]
     },
     "execution_count": 5,
     "metadata": {},
     "output_type": "execute_result"
    }
   ],
   "source": [
    "d['key']"
   ]
  },
  {
   "cell_type": "code",
   "execution_count": 15,
   "id": "80be0e80",
   "metadata": {},
   "outputs": [
    {
     "data": {
      "text/plain": [
       "'value'"
      ]
     },
     "execution_count": 15,
     "metadata": {},
     "output_type": "execute_result"
    }
   ],
   "source": [
    "d2.key"
   ]
  },
  {
   "cell_type": "code",
   "execution_count": 7,
   "id": "5e8d9fc7",
   "metadata": {},
   "outputs": [],
   "source": [
    "from box import ConfigBox"
   ]
  },
  {
   "cell_type": "code",
   "execution_count": 8,
   "id": "97878661",
   "metadata": {},
   "outputs": [],
   "source": [
    "d2 = ConfigBox({\"key\":\"value\", \"key1\":\"value1\"})"
   ]
  },
  {
   "cell_type": "code",
   "execution_count": 9,
   "id": "4368493f",
   "metadata": {},
   "outputs": [
    {
     "data": {
      "text/plain": [
       "ConfigBox({'key': 'value', 'key1': 'value1'})"
      ]
     },
     "execution_count": 9,
     "metadata": {},
     "output_type": "execute_result"
    }
   ],
   "source": [
    "d2"
   ]
  },
  {
   "cell_type": "code",
   "execution_count": 10,
   "id": "d916506f",
   "metadata": {},
   "outputs": [
    {
     "data": {
      "text/plain": [
       "'value'"
      ]
     },
     "execution_count": 10,
     "metadata": {},
     "output_type": "execute_result"
    }
   ],
   "source": [
    "d2.key"
   ]
  },
  {
   "cell_type": "code",
   "execution_count": 11,
   "id": "4ae403f4",
   "metadata": {},
   "outputs": [],
   "source": [
    "def get_prodict(x:int, y:int) -> int:\n",
    "    return x*y"
   ]
  },
  {
   "cell_type": "code",
   "execution_count": 12,
   "id": "98aa1ffc",
   "metadata": {},
   "outputs": [
    {
     "data": {
      "text/plain": [
       "'44'"
      ]
     },
     "execution_count": 12,
     "metadata": {},
     "output_type": "execute_result"
    }
   ],
   "source": [
    "get_prodict(x=2, y=\"4\")"
   ]
  },
  {
   "cell_type": "code",
   "execution_count": 16,
   "id": "2c2df945",
   "metadata": {},
   "outputs": [
    {
     "ename": "AttributeError",
     "evalue": "'TestCase' object has no attribute 'assertRaisesRegexp'",
     "output_type": "error",
     "traceback": [
      "\u001b[31m---------------------------------------------------------------------------\u001b[39m",
      "\u001b[31mAttributeError\u001b[39m                            Traceback (most recent call last)",
      "\u001b[36mCell\u001b[39m\u001b[36m \u001b[39m\u001b[32mIn[16]\u001b[39m\u001b[32m, line 1\u001b[39m\n\u001b[32m----> \u001b[39m\u001b[32m1\u001b[39m \u001b[38;5;28;01mfrom\u001b[39;00m\u001b[38;5;250m \u001b[39m\u001b[34;01mensure\u001b[39;00m\u001b[38;5;250m \u001b[39m\u001b[38;5;28;01mimport\u001b[39;00m ensure_annotations\n",
      "\u001b[36mFile \u001b[39m\u001b[32mc:\\Users\\Akshay Rathod\\OneDrive\\AI-ML\\Project\\Chicken dieses\\Chicken-Disease-Classfication\\chicken\\Lib\\site-packages\\ensure\\__init__.py:4\u001b[39m\n\u001b[32m      1\u001b[39m \u001b[38;5;28;01mfrom\u001b[39;00m\u001b[38;5;250m \u001b[39m\u001b[34;01m__future__\u001b[39;00m\u001b[38;5;250m \u001b[39m\u001b[38;5;28;01mimport\u001b[39;00m absolute_import, division, print_function, unicode_literals\n\u001b[32m      3\u001b[39m \u001b[38;5;28;01mfrom\u001b[39;00m\u001b[38;5;250m \u001b[39m\u001b[34;01m.\u001b[39;00m\u001b[34;01m_types\u001b[39;00m\u001b[38;5;250m \u001b[39m\u001b[38;5;28;01mimport\u001b[39;00m NumericString, NumericByteString, IntegerString, IntegerByteString\n\u001b[32m----> \u001b[39m\u001b[32m4\u001b[39m \u001b[38;5;28;01mfrom\u001b[39;00m\u001b[38;5;250m \u001b[39m\u001b[34;01m.\u001b[39;00m\u001b[34;01mmain\u001b[39;00m\u001b[38;5;250m \u001b[39m\u001b[38;5;28;01mimport\u001b[39;00m EnsureError, Ensure, Check, ensure, check, ensure_raises, ensure_raises_regex, ensure_annotations\n",
      "\u001b[36mFile \u001b[39m\u001b[32mc:\\Users\\Akshay Rathod\\OneDrive\\AI-ML\\Project\\Chicken dieses\\Chicken-Disease-Classfication\\chicken\\Lib\\site-packages\\ensure\\main.py:922\u001b[39m\n\u001b[32m    919\u001b[39m check = Check()\n\u001b[32m    921\u001b[39m ensure_raises = unittest_case.assertRaises\n\u001b[32m--> \u001b[39m\u001b[32m922\u001b[39m ensure_raises_regex = \u001b[43munittest_case\u001b[49m\u001b[43m.\u001b[49m\u001b[43massertRaisesRegexp\u001b[49m\n",
      "\u001b[31mAttributeError\u001b[39m: 'TestCase' object has no attribute 'assertRaisesRegexp'"
     ]
    }
   ],
   "source": [
    "from ensure import ensure_annotations"
   ]
  },
  {
   "cell_type": "code",
   "execution_count": 19,
   "id": "57e101e9",
   "metadata": {},
   "outputs": [
    {
     "ename": "NameError",
     "evalue": "name 'ensure_annotations' is not defined",
     "output_type": "error",
     "traceback": [
      "\u001b[31m---------------------------------------------------------------------------\u001b[39m",
      "\u001b[31mNameError\u001b[39m                                 Traceback (most recent call last)",
      "\u001b[36mCell\u001b[39m\u001b[36m \u001b[39m\u001b[32mIn[19]\u001b[39m\u001b[32m, line 1\u001b[39m\n\u001b[32m----> \u001b[39m\u001b[32m1\u001b[39m \u001b[38;5;129m@ensure_annotations\u001b[39m\n\u001b[32m      2\u001b[39m \u001b[38;5;28;01mdef\u001b[39;00m\u001b[38;5;250m \u001b[39m\u001b[34mget_prodict\u001b[39m(x:\u001b[38;5;28mint\u001b[39m, y:\u001b[38;5;28mint\u001b[39m) -> \u001b[38;5;28mint\u001b[39m:\n\u001b[32m      3\u001b[39m     \u001b[38;5;28;01mreturn\u001b[39;00m x*y\n",
      "\u001b[31mNameError\u001b[39m: name 'ensure_annotations' is not defined"
     ]
    }
   ],
   "source": [
    "\n",
    "@ensure_annotations\n",
    "def get_prodict(x:int, y:int) -> int:\n",
    "    return x*y"
   ]
  },
  {
   "cell_type": "code",
   "execution_count": 18,
   "id": "81278eef",
   "metadata": {},
   "outputs": [
    {
     "data": {
      "text/plain": [
       "8"
      ]
     },
     "execution_count": 18,
     "metadata": {},
     "output_type": "execute_result"
    }
   ],
   "source": [
    "\n",
    "get_prodict(x=2, y=4)"
   ]
  },
  {
   "cell_type": "code",
   "execution_count": 17,
   "id": "e1ca4a50",
   "metadata": {},
   "outputs": [
    {
     "data": {
      "text/plain": [
       "'44'"
      ]
     },
     "execution_count": 17,
     "metadata": {},
     "output_type": "execute_result"
    }
   ],
   "source": [
    "\n",
    "get_prodict(x=2, y=\"4\")"
   ]
  },
  {
   "cell_type": "code",
   "execution_count": null,
   "id": "d9c82753",
   "metadata": {},
   "outputs": [],
   "source": []
  }
 ],
 "metadata": {
  "kernelspec": {
   "display_name": "chicken",
   "language": "python",
   "name": "python3"
  },
  "language_info": {
   "codemirror_mode": {
    "name": "ipython",
    "version": 3
   },
   "file_extension": ".py",
   "mimetype": "text/x-python",
   "name": "python",
   "nbconvert_exporter": "python",
   "pygments_lexer": "ipython3",
   "version": "3.12.4"
  }
 },
 "nbformat": 4,
 "nbformat_minor": 5
}
